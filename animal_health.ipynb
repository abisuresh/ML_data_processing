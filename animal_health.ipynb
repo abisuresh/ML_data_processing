{
 "cells": [
  {
   "cell_type": "code",
   "execution_count": null,
   "id": "initial_id",
   "metadata": {
    "collapsed": true
   },
   "outputs": [],
   "source": [
    "import pandas as pd \n",
    "import numpy as np \n",
    "import seaborn as sns \n",
    "import matplotlib as plt\n",
    "from sklearn.model_selection import train_test_split"
   ]
  },
  {
   "cell_type": "markdown",
   "source": [
    "# import dataset "
   ],
   "metadata": {
    "collapsed": false
   },
   "id": "9bc7e9ac4d056840"
  },
  {
   "cell_type": "code",
   "execution_count": null,
   "outputs": [],
   "source": [
    "# kaggle dataset: https://www.kaggle.com/datasets/sabari50312/fundus-pytorch/data\n",
    "\n",
    "animal_health_ds = pd.read_csv('data.csv')\n"
   ],
   "metadata": {
    "collapsed": false
   },
   "id": "f27de31b0a5ca267"
  },
  {
   "cell_type": "markdown",
   "source": [
    "# preprocessing"
   ],
   "metadata": {
    "collapsed": false
   },
   "id": "ba8570eeaef2e9a2"
  },
  {
   "cell_type": "code",
   "execution_count": null,
   "outputs": [],
   "source": [
    "# normalization \n",
    "\n",
    "# feature selection "
   ],
   "metadata": {
    "collapsed": false
   },
   "id": "5677ed036fa72082"
  },
  {
   "cell_type": "markdown",
   "source": [
    "# ml algorithms "
   ],
   "metadata": {
    "collapsed": false
   },
   "id": "c32afce4fa87294e"
  },
  {
   "cell_type": "code",
   "execution_count": null,
   "outputs": [],
   "source": [],
   "metadata": {
    "collapsed": false
   },
   "id": "cf39c1d3eabc7054"
  },
  {
   "cell_type": "markdown",
   "source": [
    "# analysis "
   ],
   "metadata": {
    "collapsed": false
   },
   "id": "d08a9766b99562cf"
  },
  {
   "cell_type": "code",
   "execution_count": null,
   "outputs": [],
   "source": [],
   "metadata": {
    "collapsed": false
   },
   "id": "6a0acfe8ef81adda"
  }
 ],
 "metadata": {
  "kernelspec": {
   "display_name": "Python 3",
   "language": "python",
   "name": "python3"
  },
  "language_info": {
   "codemirror_mode": {
    "name": "ipython",
    "version": 2
   },
   "file_extension": ".py",
   "mimetype": "text/x-python",
   "name": "python",
   "nbconvert_exporter": "python",
   "pygments_lexer": "ipython2",
   "version": "2.7.6"
  }
 },
 "nbformat": 4,
 "nbformat_minor": 5
}
