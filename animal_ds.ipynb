{
 "cells": [
  {
   "cell_type": "code",
   "execution_count": null,
   "id": "initial_id",
   "metadata": {
    "collapsed": true
   },
   "outputs": [],
   "source": [
    "import pandas as pd\n",
    "import numpy as np\n",
    "import seaborn as sns\n",
    "import matplotlib as plt\n",
    "from sklearn.model_selection import train_test_split\n",
    "from sklearn.preprocessing import MinMaxScaler\n",
    "from scipy.spatial import distance"
   ]
  },
  {
   "cell_type": "markdown",
   "source": [
    "## import dataset"
   ],
   "metadata": {
    "collapsed": false
   },
   "id": "67361c36765bf1cb"
  },
  {
   "cell_type": "code",
   "execution_count": null,
   "outputs": [],
   "source": [
    "animal_health_ds = pd.read_csv('data.csv')"
   ],
   "metadata": {
    "collapsed": false
   },
   "id": "75edccaf4542050c"
  },
  {
   "cell_type": "markdown",
   "source": [
    "## visualize dataset"
   ],
   "metadata": {
    "collapsed": false
   },
   "id": "5ad763271ec3e4c2"
  },
  {
   "cell_type": "code",
   "execution_count": null,
   "outputs": [],
   "source": [],
   "metadata": {
    "collapsed": false
   },
   "id": "3f3c8a79cafde9e6"
  },
  {
   "cell_type": "markdown",
   "source": [
    "## preprocessing "
   ],
   "metadata": {
    "collapsed": false
   },
   "id": "a8cd221c20af61a7"
  },
  {
   "cell_type": "code",
   "execution_count": null,
   "outputs": [],
   "source": [],
   "metadata": {
    "collapsed": false
   },
   "id": "37c6615a6b3d786a"
  },
  {
   "cell_type": "markdown",
   "source": [
    "## machine learning algorithms "
   ],
   "metadata": {
    "collapsed": false
   },
   "id": "58bb9f95c029584"
  },
  {
   "cell_type": "code",
   "execution_count": null,
   "outputs": [],
   "source": [],
   "metadata": {
    "collapsed": false
   },
   "id": "503719c67848756a"
  },
  {
   "cell_type": "markdown",
   "source": [
    "## analysis "
   ],
   "metadata": {
    "collapsed": false
   },
   "id": "175434abb3cef77c"
  }
 ],
 "metadata": {
  "kernelspec": {
   "display_name": "Python 3",
   "language": "python",
   "name": "python3"
  },
  "language_info": {
   "codemirror_mode": {
    "name": "ipython",
    "version": 2
   },
   "file_extension": ".py",
   "mimetype": "text/x-python",
   "name": "python",
   "nbconvert_exporter": "python",
   "pygments_lexer": "ipython2",
   "version": "2.7.6"
  }
 },
 "nbformat": 4,
 "nbformat_minor": 5
}
